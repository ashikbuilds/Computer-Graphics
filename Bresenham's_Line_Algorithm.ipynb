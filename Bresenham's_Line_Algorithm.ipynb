{
  "nbformat": 4,
  "nbformat_minor": 0,
  "metadata": {
    "colab": {
      "provenance": []
    },
    "kernelspec": {
      "name": "python3",
      "display_name": "Python 3"
    },
    "language_info": {
      "name": "python"
    }
  },
  "cells": [
    {
      "cell_type": "code",
      "execution_count": 2,
      "metadata": {
        "colab": {
          "base_uri": "https://localhost:8080/",
          "height": 106
        },
        "id": "xW2kHyRNr3lE",
        "outputId": "2cfb4c23-7e12-4c31-9c5d-0c8d0a0665b4"
      },
      "outputs": [
        {
          "output_type": "error",
          "ename": "IndentationError",
          "evalue": "unindent does not match any outer indentation level (<tokenize>, line 32)",
          "traceback": [
            "\u001b[0;36m  File \u001b[0;32m\"<tokenize>\"\u001b[0;36m, line \u001b[0;32m32\u001b[0m\n\u001b[0;31m    else:\u001b[0m\n\u001b[0m    ^\u001b[0m\n\u001b[0;31mIndentationError\u001b[0m\u001b[0;31m:\u001b[0m unindent does not match any outer indentation level\n"
          ]
        }
      ],
      "source": [
        "import matplotlib.pyplot as plt\n",
        "\n",
        "def bresenham_line(x1, y1, x2, y2, print_steps=False):\n",
        "    x_points = []\n",
        "    y_points = []\n",
        "    pixels_drawn = 0\n",
        "\n",
        "    dx = abs(x2 - x1)\n",
        "    dy = abs(y2 - y1)\n",
        "\n",
        "    sx = 1 if x2 >= x1 else -1\n",
        "    sy = 1 if y2 >= y1 else -1\n",
        "\n",
        "    x, y = x1, y1\n",
        "\n",
        "    if dx > dy:\n",
        "        d = 2 * dy - dx\n",
        "        dS = 2 * dy\n",
        "        dT = 2 * (dy - dx)\n",
        "        for _ in range(dx + 1):\n",
        "            x_points.append(x)\n",
        "            y_points.append(y)\n",
        "            if print_steps:\n",
        "                print(f\"d={d}, x={x}, y={y}\")\n",
        "            pixels_drawn += 1\n",
        "            if d < 0:\n",
        "                d += dS\n",
        "            else:\n",
        "                y += sy\n",
        "                d += dT\n",
        "            x += sx\n",
        "           else:\n",
        "             d = 2 * dx - dy\n",
        "             dS = 2 * dx\n",
        "             dT = 2 * (dx - dy)\n",
        "        for _ in range(dy + 1):\n",
        "            x_points.append(x)\n",
        "            y_points.append(y)\n",
        "            if print_steps:\n",
        "                print(f\"d={d}, x={x}, y={y}\")\n",
        "            pixels_drawn += 1\n",
        "            if d < 0:\n",
        "                d += dS\n",
        "            else:\n",
        "                x += sx\n",
        "                d += dT\n",
        "            y += sy\n",
        "\n",
        "    return x_points, y_points, pixels_drawn"
      ]
    },
    {
      "cell_type": "code",
      "source": [
        "\n",
        "X0 = int(input(\"Enter X0: \"))\n",
        "Y0 = int(input(\"Enter Y0: \"))\n",
        "X1 = int(input(\"Enter X1: \"))\n",
        "Y1 = int(input(\"Enter Y1: \"))\n",
        "\n",
        "\n",
        "dX = abs(X1 - X0)\n",
        "dY = abs(Y1 - Y0)\n",
        "\n",
        "print(f\"ΔX = {dX}\")\n",
        "print(f\"ΔY = {dY}\")\n",
        "print(f\"2ΔY = {2*dY}\")\n",
        "print(f\"2(ΔY - ΔX) = {2*(dY - dX)}\")\n",
        "\n",
        "\n",
        "P = 2*dY - dX\n",
        "print(f\"P0 = {P}\")\n",
        "\n",
        "\n",
        "x, y = X0, Y0\n",
        "points = [(x, y)]\n",
        "\n",
        "\n",
        "x_inc = 1 if X1 > X0 else -1\n",
        "y_inc = 1 if Y1 > Y0 else -1\n",
        "\n",
        "\n",
        "for k in range(dX):\n",
        "    if P < 0:\n",
        "        x += x_inc\n",
        "        P = P + 2*dY\n",
        "    else:\n",
        "        x += x_inc\n",
        "        y += y_inc\n",
        "        P = P + 2*dY - 2*dX\n",
        "    points.append((x, y))\n",
        "\n",
        "\n",
        "print(\"Plotted points:\")\n",
        "for pt in points:\n",
        "    print(pt)\n",
        "\n",
        "\n",
        "import matplotlib.pyplot as plt\n",
        "xs, ys = zip(*points)\n",
        "plt.plot(xs, ys, marker=\"o\")\n",
        "plt.title(\"Bresenham Line Plot\")\n",
        "plt.grid(True)\n",
        "plt.show()\n"
      ],
      "metadata": {
        "colab": {
          "base_uri": "https://localhost:8080/",
          "height": 730
        },
        "id": "W3dHonDEt12k",
        "outputId": "53af18ca-9b11-4833-d38f-ddcf512a7a56"
      },
      "execution_count": 8,
      "outputs": [
        {
          "output_type": "stream",
          "name": "stdout",
          "text": [
            "Enter X0: 4\n",
            "Enter Y0: 6\n",
            "Enter X1: 9\n",
            "Enter Y1: 6\n",
            "ΔX = 5\n",
            "ΔY = 0\n",
            "2ΔY = 0\n",
            "2(ΔY - ΔX) = -10\n",
            "P0 = -5\n",
            "Plotted points:\n",
            "(4, 6)\n",
            "(5, 6)\n",
            "(6, 6)\n",
            "(7, 6)\n",
            "(8, 6)\n",
            "(9, 6)\n"
          ]
        },
        {
          "output_type": "display_data",
          "data": {
            "text/plain": [
              "<Figure size 640x480 with 1 Axes>"
            ],
            "image/png": "[encoded data removed]"
          },
          "metadata": {}
        }
      ]
    },
    {
      "cell_type": "code",
      "source": [
        "\n",
        "X0 = int(input(\"Enter X0: \"))\n",
        "Y0 = int(input(\"Enter Y0: \"))\n",
        "X1 = int(input(\"Enter X1: \"))\n",
        "Y1 = int(input(\"Enter Y1: \"))\n",
        "\n",
        "\n",
        "dX = abs(X1 - X0)\n",
        "dY = abs(Y1 - Y0)\n",
        "\n",
        "print(f\"ΔX = {dX}\")\n",
        "print(f\"ΔY = {dY}\")\n",
        "print(f\"2ΔY = {2*dY}\")\n",
        "print(f\"2(ΔY - ΔX) = {2*(dY - dX)}\")\n",
        "\n",
        "\n",
        "P = 2*dY - dX\n",
        "print(f\"P0 = {P}\")\n",
        "\n",
        "\n",
        "x, y = X0, Y0\n",
        "points = [(x, y)]\n",
        "\n",
        "\n",
        "x_inc = 1 if X1 > X0 else -1\n",
        "y_inc = 1 if Y1 > Y0 else -1\n",
        "\n",
        "\n",
        "for k in range(dX):\n",
        "    if P < 0:\n",
        "        x += x_inc\n",
        "        P = P + 2*dY\n",
        "    else:\n",
        "        x += x_inc\n",
        "        y += y_inc\n",
        "        P = P + 2*dY - 2*dX\n",
        "    points.append((x, y))\n",
        "\n",
        "\n",
        "print(\"Plotted points:\")\n",
        "for pt in points:\n",
        "    print(pt)\n",
        "\n",
        "\n",
        "import matplotlib.pyplot as plt\n",
        "xs, ys = zip(*points)\n",
        "plt.plot(xs, ys, marker=\"o\")\n",
        "plt.title(\"Bresenham Line Plot\")\n",
        "plt.grid(True)\n",
        "plt.show()\n"
      ],
      "metadata": {
        "colab": {
          "base_uri": "https://localhost:8080/",
          "height": 764
        },
        "id": "hGLPh1Qiwbiv",
        "outputId": "a441d18c-7c3a-4c4a-8a47-831c24d5e3c6"
      },
      "execution_count": 10,
      "outputs": [
        {
          "output_type": "stream",
          "name": "stdout",
          "text": [
            "Enter X0: 20\n",
            "Enter Y0: 10\n",
            "Enter X1: 13\n",
            "Enter Y1: 18\n",
            "ΔX = 7\n",
            "ΔY = 8\n",
            "2ΔY = 16\n",
            "2(ΔY - ΔX) = 2\n",
            "P0 = 9\n",
            "Plotted points:\n",
            "(20, 10)\n",
            "(19, 11)\n",
            "(18, 12)\n",
            "(17, 13)\n",
            "(16, 14)\n",
            "(15, 15)\n",
            "(14, 16)\n",
            "(13, 17)\n"
          ]
        },
        {
          "output_type": "display_data",
          "data": {
            "text/plain": [
              "<Figure size 640x480 with 1 Axes>"
            ],
            "image/png": "[encoded data removed]"
          },
          "metadata": {}
        }
      ]
    }
  ]
}